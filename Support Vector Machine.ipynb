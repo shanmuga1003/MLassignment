{
 "cells": [
  {
   "cell_type": "markdown",
   "id": "3dccaac6-de50-4f57-8bcd-0245e8e10d7f",
   "metadata": {},
   "source": [
    "### Support Vector Regression (SVR)"
   ]
  },
  {
   "cell_type": "code",
   "execution_count": null,
   "id": "9a1ba296-2ef1-46f1-ade5-430a17522d97",
   "metadata": {},
   "outputs": [],
   "source": [
    "import numpy as np\n",
    "import matplotlib.pyplot as plt\n",
    "import pandas as pd\n",
    "import warnings\n",
    "warnings.filterwarnings('ignore')\n",
    "\n",
    "# Load dataset\n",
    "dataset = pd.read_csv(\"Position_Salaries.csv\")\n",
    "\n",
    "# Extract features and target variable\n",
    "X = dataset.iloc[:, 1:2].values\n",
    "y = dataset.iloc[:, 2].values\n",
    "\n",
    "# Standardize features and target\n",
    "from sklearn.preprocessing import StandardScaler\n",
    "sc_X = StandardScaler()\n",
    "sc_y = StandardScaler()\n",
    "X = sc_X.fit_transform(X)\n",
    "y = sc_y.fit_transform(y.reshape(-1, 1))\n",
    "\n",
    "# Train SVR model\n",
    "from sklearn.svm import SVR\n",
    "regressor = SVR(kernel='rbf')\n",
    "regressor.fit(X, y.ravel())\n",
    "\n",
    "# Predict a new result (inverse transform the prediction)\n",
    "y_pred = sc_y.inverse_transform(regressor.predict(sc_X.transform([[6.5]])).reshape(-1, 1))\n",
    "\n",
    "\n",
    "# Visualize the results\n",
    "plt.scatter(X, y, color=\"red\")\n",
    "plt.plot(X, regressor.predict(X), color=\"blue\")\n",
    "plt.title(\"SVR Model Results\")\n",
    "plt.xlabel(\"Position Level\")\n",
    "plt.ylabel(\"Salary\")\n",
    "plt.show()\n"
   ]
  },
  {
   "cell_type": "markdown",
   "id": "c8326102-8b73-4db4-b130-62e6d3154533",
   "metadata": {},
   "source": [
    "The CEO is being taken as expection because it is an Outlier"
   ]
  },
  {
   "cell_type": "code",
   "execution_count": 2,
   "id": "1a9cc8d8-2a1a-4e04-9152-38611930a746",
   "metadata": {},
   "outputs": [
    {
     "data": {
      "text/plain": [
       "array([170370.0204065])"
      ]
     },
     "execution_count": 2,
     "metadata": {},
     "output_type": "execute_result"
    }
   ],
   "source": [
    "y_pred"
   ]
  },
  {
   "cell_type": "code",
   "execution_count": 3,
   "id": "3510232a-0460-4238-9604-202bd4034d0c",
   "metadata": {},
   "outputs": [
    {
     "name": "stdout",
     "output_type": "stream",
     "text": [
      "Accuracy of the model is 97.32099364274215 %\n"
     ]
    }
   ],
   "source": [
    "accuracy = regressor.score(X[:-1,:],y[:-1,:])\n",
    "print('Accuracy of the model is',accuracy*100,'%')"
   ]
  },
  {
   "cell_type": "markdown",
   "id": "54ce158e-947c-481a-a710-f05e2caca0e0",
   "metadata": {},
   "source": [
    "We have calulated the accuracy without taking CEO as it was outlier"
   ]
  }
 ],
 "metadata": {
  "kernelspec": {
   "display_name": "Python 3 (ipykernel)",
   "language": "python",
   "name": "python3"
  },
  "language_info": {
   "codemirror_mode": {
    "name": "ipython",
    "version": 3
   },
   "file_extension": ".py",
   "mimetype": "text/x-python",
   "name": "python",
   "nbconvert_exporter": "python",
   "pygments_lexer": "ipython3",
   "version": "3.12.1"
  }
 },
 "nbformat": 4,
 "nbformat_minor": 5
}
